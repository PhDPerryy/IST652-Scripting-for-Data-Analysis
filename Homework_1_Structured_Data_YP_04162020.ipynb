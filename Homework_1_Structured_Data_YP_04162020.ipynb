{
  "nbformat": 4,
  "nbformat_minor": 0,
  "metadata": {
    "colab": {
      "name": "Homework_1_Structured_Data_YP_04162020.ipynb",
      "provenance": [],
      "collapsed_sections": []
    },
    "kernelspec": {
      "name": "python3",
      "display_name": "Python 3"
    }
  },
  "cells": [
    {
      "cell_type": "code",
      "metadata": {
        "id": "MkeQjoHo58CM",
        "colab_type": "code",
        "colab": {}
      },
      "source": [
        "#Name: Yehuda Perry\n",
        "#Course ID and Name: IST652 - Scripting for Data Analysis\n",
        "#Date: 04/14/2020\n",
        "#Purpose: Homework 1 - Structured Data"
      ],
      "execution_count": 0,
      "outputs": []
    },
    {
      "cell_type": "code",
      "metadata": {
        "id": "iCQrZDXf6Uuz",
        "colab_type": "code",
        "outputId": "4db4c926-ae71-4a33-aef0-2f261cda05ab",
        "colab": {
          "base_uri": "https://localhost:8080/",
          "height": 85
        }
      },
      "source": [
        "#Import libraries\n",
        "import pandas as pd\n",
        "import numpy as np\n",
        "import os\n",
        "import plotly.express as px\n",
        "import seaborn as sns\n",
        "import matplotlib as mpl\n",
        "from sklearn.model_selection import train_test_split\n",
        "from sklearn.cluster import KMeans\n",
        "from scipy.spatial.distance import cdist\n",
        "from matplotlib import pyplot as plt"
      ],
      "execution_count": 1,
      "outputs": [
        {
          "output_type": "stream",
          "text": [
            "/usr/local/lib/python3.6/dist-packages/statsmodels/tools/_testing.py:19: FutureWarning:\n",
            "\n",
            "pandas.util.testing is deprecated. Use the functions in the public API at pandas.testing instead.\n",
            "\n"
          ],
          "name": "stderr"
        }
      ]
    },
    {
      "cell_type": "code",
      "metadata": {
        "id": "7vWyiAHp6d7_",
        "colab_type": "code",
        "colab": {}
      },
      "source": [
        "#Data Frame 'donors'\n",
        "donors = pd.read_csv('/content/donors_data.csv')"
      ],
      "execution_count": 0,
      "outputs": []
    },
    {
      "cell_type": "code",
      "metadata": {
        "id": "4W3J2SHL7Vc4",
        "colab_type": "code",
        "outputId": "e6944f35-2a46-4527-97bd-d0a779a5aff4",
        "colab": {
          "base_uri": "https://localhost:8080/",
          "height": 241
        }
      },
      "source": [
        "#Load first 5 lines in the dataset(DF)\n",
        "donors.head()"
      ],
      "execution_count": 3,
      "outputs": [
        {
          "output_type": "execute_result",
          "data": {
            "text/html": [
              "<div>\n",
              "<style scoped>\n",
              "    .dataframe tbody tr th:only-of-type {\n",
              "        vertical-align: middle;\n",
              "    }\n",
              "\n",
              "    .dataframe tbody tr th {\n",
              "        vertical-align: top;\n",
              "    }\n",
              "\n",
              "    .dataframe thead th {\n",
              "        text-align: right;\n",
              "    }\n",
              "</style>\n",
              "<table border=\"1\" class=\"dataframe\">\n",
              "  <thead>\n",
              "    <tr style=\"text-align: right;\">\n",
              "      <th></th>\n",
              "      <th>Row Id</th>\n",
              "      <th>Row Id.</th>\n",
              "      <th>zipconvert_2</th>\n",
              "      <th>zipconvert_3</th>\n",
              "      <th>zipconvert_4</th>\n",
              "      <th>zipconvert_5</th>\n",
              "      <th>homeowner dummy</th>\n",
              "      <th>NUMCHLD</th>\n",
              "      <th>INCOME</th>\n",
              "      <th>gender dummy</th>\n",
              "      <th>WEALTH</th>\n",
              "      <th>HV</th>\n",
              "      <th>Icmed</th>\n",
              "      <th>Icavg</th>\n",
              "      <th>IC15</th>\n",
              "      <th>NUMPROM</th>\n",
              "      <th>RAMNTALL</th>\n",
              "      <th>MAXRAMNT</th>\n",
              "      <th>LASTGIFT</th>\n",
              "      <th>totalmonths</th>\n",
              "      <th>TIMELAG</th>\n",
              "      <th>AVGGIFT</th>\n",
              "      <th>TARGET_B</th>\n",
              "      <th>TARGET_D</th>\n",
              "    </tr>\n",
              "  </thead>\n",
              "  <tbody>\n",
              "    <tr>\n",
              "      <th>0</th>\n",
              "      <td>1</td>\n",
              "      <td>17</td>\n",
              "      <td>0</td>\n",
              "      <td>1</td>\n",
              "      <td>0</td>\n",
              "      <td>0</td>\n",
              "      <td>1</td>\n",
              "      <td>1</td>\n",
              "      <td>5</td>\n",
              "      <td>1</td>\n",
              "      <td>9</td>\n",
              "      <td>1399</td>\n",
              "      <td>637</td>\n",
              "      <td>703</td>\n",
              "      <td>1</td>\n",
              "      <td>74</td>\n",
              "      <td>102.0</td>\n",
              "      <td>6.0</td>\n",
              "      <td>5.0</td>\n",
              "      <td>29</td>\n",
              "      <td>3</td>\n",
              "      <td>4.857143</td>\n",
              "      <td>1</td>\n",
              "      <td>5.0</td>\n",
              "    </tr>\n",
              "    <tr>\n",
              "      <th>1</th>\n",
              "      <td>2</td>\n",
              "      <td>25</td>\n",
              "      <td>1</td>\n",
              "      <td>0</td>\n",
              "      <td>0</td>\n",
              "      <td>0</td>\n",
              "      <td>1</td>\n",
              "      <td>1</td>\n",
              "      <td>1</td>\n",
              "      <td>0</td>\n",
              "      <td>7</td>\n",
              "      <td>698</td>\n",
              "      <td>422</td>\n",
              "      <td>463</td>\n",
              "      <td>4</td>\n",
              "      <td>46</td>\n",
              "      <td>94.0</td>\n",
              "      <td>12.0</td>\n",
              "      <td>12.0</td>\n",
              "      <td>34</td>\n",
              "      <td>6</td>\n",
              "      <td>9.400000</td>\n",
              "      <td>1</td>\n",
              "      <td>10.0</td>\n",
              "    </tr>\n",
              "    <tr>\n",
              "      <th>2</th>\n",
              "      <td>3</td>\n",
              "      <td>29</td>\n",
              "      <td>0</td>\n",
              "      <td>0</td>\n",
              "      <td>0</td>\n",
              "      <td>1</td>\n",
              "      <td>0</td>\n",
              "      <td>2</td>\n",
              "      <td>5</td>\n",
              "      <td>1</td>\n",
              "      <td>8</td>\n",
              "      <td>828</td>\n",
              "      <td>358</td>\n",
              "      <td>376</td>\n",
              "      <td>13</td>\n",
              "      <td>32</td>\n",
              "      <td>30.0</td>\n",
              "      <td>10.0</td>\n",
              "      <td>5.0</td>\n",
              "      <td>29</td>\n",
              "      <td>7</td>\n",
              "      <td>4.285714</td>\n",
              "      <td>1</td>\n",
              "      <td>5.0</td>\n",
              "    </tr>\n",
              "    <tr>\n",
              "      <th>3</th>\n",
              "      <td>4</td>\n",
              "      <td>38</td>\n",
              "      <td>0</td>\n",
              "      <td>0</td>\n",
              "      <td>0</td>\n",
              "      <td>1</td>\n",
              "      <td>1</td>\n",
              "      <td>1</td>\n",
              "      <td>3</td>\n",
              "      <td>0</td>\n",
              "      <td>4</td>\n",
              "      <td>1471</td>\n",
              "      <td>484</td>\n",
              "      <td>546</td>\n",
              "      <td>4</td>\n",
              "      <td>94</td>\n",
              "      <td>177.0</td>\n",
              "      <td>10.0</td>\n",
              "      <td>8.0</td>\n",
              "      <td>30</td>\n",
              "      <td>3</td>\n",
              "      <td>7.080000</td>\n",
              "      <td>0</td>\n",
              "      <td>0.0</td>\n",
              "    </tr>\n",
              "    <tr>\n",
              "      <th>4</th>\n",
              "      <td>5</td>\n",
              "      <td>40</td>\n",
              "      <td>0</td>\n",
              "      <td>1</td>\n",
              "      <td>0</td>\n",
              "      <td>0</td>\n",
              "      <td>1</td>\n",
              "      <td>1</td>\n",
              "      <td>4</td>\n",
              "      <td>0</td>\n",
              "      <td>8</td>\n",
              "      <td>547</td>\n",
              "      <td>386</td>\n",
              "      <td>432</td>\n",
              "      <td>7</td>\n",
              "      <td>20</td>\n",
              "      <td>23.0</td>\n",
              "      <td>11.0</td>\n",
              "      <td>11.0</td>\n",
              "      <td>30</td>\n",
              "      <td>6</td>\n",
              "      <td>7.666667</td>\n",
              "      <td>0</td>\n",
              "      <td>0.0</td>\n",
              "    </tr>\n",
              "  </tbody>\n",
              "</table>\n",
              "</div>"
            ],
            "text/plain": [
              "   Row Id  Row Id.  zipconvert_2  ...   AVGGIFT  TARGET_B  TARGET_D\n",
              "0       1       17             0  ...  4.857143         1       5.0\n",
              "1       2       25             1  ...  9.400000         1      10.0\n",
              "2       3       29             0  ...  4.285714         1       5.0\n",
              "3       4       38             0  ...  7.080000         0       0.0\n",
              "4       5       40             0  ...  7.666667         0       0.0\n",
              "\n",
              "[5 rows x 24 columns]"
            ]
          },
          "metadata": {
            "tags": []
          },
          "execution_count": 3
        }
      ]
    },
    {
      "cell_type": "code",
      "metadata": {
        "id": "G0n8LtixmJ5I",
        "colab_type": "code",
        "outputId": "471308f5-7a4d-4f58-c09f-c1e5831c57ec",
        "colab": {
          "base_uri": "https://localhost:8080/",
          "height": 334
        }
      },
      "source": [
        "donors.describe()"
      ],
      "execution_count": 4,
      "outputs": [
        {
          "output_type": "execute_result",
          "data": {
            "text/html": [
              "<div>\n",
              "<style scoped>\n",
              "    .dataframe tbody tr th:only-of-type {\n",
              "        vertical-align: middle;\n",
              "    }\n",
              "\n",
              "    .dataframe tbody tr th {\n",
              "        vertical-align: top;\n",
              "    }\n",
              "\n",
              "    .dataframe thead th {\n",
              "        text-align: right;\n",
              "    }\n",
              "</style>\n",
              "<table border=\"1\" class=\"dataframe\">\n",
              "  <thead>\n",
              "    <tr style=\"text-align: right;\">\n",
              "      <th></th>\n",
              "      <th>Row Id</th>\n",
              "      <th>Row Id.</th>\n",
              "      <th>zipconvert_2</th>\n",
              "      <th>zipconvert_3</th>\n",
              "      <th>zipconvert_4</th>\n",
              "      <th>zipconvert_5</th>\n",
              "      <th>homeowner dummy</th>\n",
              "      <th>NUMCHLD</th>\n",
              "      <th>INCOME</th>\n",
              "      <th>gender dummy</th>\n",
              "      <th>WEALTH</th>\n",
              "      <th>HV</th>\n",
              "      <th>Icmed</th>\n",
              "      <th>Icavg</th>\n",
              "      <th>IC15</th>\n",
              "      <th>NUMPROM</th>\n",
              "      <th>RAMNTALL</th>\n",
              "      <th>MAXRAMNT</th>\n",
              "      <th>LASTGIFT</th>\n",
              "      <th>totalmonths</th>\n",
              "      <th>TIMELAG</th>\n",
              "      <th>AVGGIFT</th>\n",
              "      <th>TARGET_B</th>\n",
              "      <th>TARGET_D</th>\n",
              "    </tr>\n",
              "  </thead>\n",
              "  <tbody>\n",
              "    <tr>\n",
              "      <th>count</th>\n",
              "      <td>3120.000000</td>\n",
              "      <td>3120.000000</td>\n",
              "      <td>3120.000000</td>\n",
              "      <td>3120.000000</td>\n",
              "      <td>3120.000000</td>\n",
              "      <td>3120.000000</td>\n",
              "      <td>3120.000000</td>\n",
              "      <td>3120.000000</td>\n",
              "      <td>3120.000000</td>\n",
              "      <td>3120.000000</td>\n",
              "      <td>3120.000000</td>\n",
              "      <td>3120.000000</td>\n",
              "      <td>3120.000000</td>\n",
              "      <td>3120.000000</td>\n",
              "      <td>3120.000000</td>\n",
              "      <td>3120.000000</td>\n",
              "      <td>3120.000000</td>\n",
              "      <td>3120.000000</td>\n",
              "      <td>3120.000000</td>\n",
              "      <td>3120.000000</td>\n",
              "      <td>3120.000000</td>\n",
              "      <td>3120.000000</td>\n",
              "      <td>3120.00000</td>\n",
              "      <td>3120.000000</td>\n",
              "    </tr>\n",
              "    <tr>\n",
              "      <th>mean</th>\n",
              "      <td>1560.500000</td>\n",
              "      <td>11615.770833</td>\n",
              "      <td>0.214423</td>\n",
              "      <td>0.185256</td>\n",
              "      <td>0.214423</td>\n",
              "      <td>0.384615</td>\n",
              "      <td>0.770192</td>\n",
              "      <td>1.069231</td>\n",
              "      <td>3.893910</td>\n",
              "      <td>0.609295</td>\n",
              "      <td>6.402244</td>\n",
              "      <td>1141.361859</td>\n",
              "      <td>388.217308</td>\n",
              "      <td>432.088141</td>\n",
              "      <td>14.702885</td>\n",
              "      <td>49.089423</td>\n",
              "      <td>110.399875</td>\n",
              "      <td>16.651397</td>\n",
              "      <td>13.522917</td>\n",
              "      <td>31.136859</td>\n",
              "      <td>6.861859</td>\n",
              "      <td>10.690713</td>\n",
              "      <td>0.50000</td>\n",
              "      <td>6.499612</td>\n",
              "    </tr>\n",
              "    <tr>\n",
              "      <th>std</th>\n",
              "      <td>900.810746</td>\n",
              "      <td>6698.678131</td>\n",
              "      <td>0.410487</td>\n",
              "      <td>0.388568</td>\n",
              "      <td>0.410487</td>\n",
              "      <td>0.486582</td>\n",
              "      <td>0.420777</td>\n",
              "      <td>0.347688</td>\n",
              "      <td>1.636186</td>\n",
              "      <td>0.487987</td>\n",
              "      <td>2.539978</td>\n",
              "      <td>946.642162</td>\n",
              "      <td>172.815950</td>\n",
              "      <td>168.195104</td>\n",
              "      <td>12.079882</td>\n",
              "      <td>22.717130</td>\n",
              "      <td>147.299933</td>\n",
              "      <td>22.223521</td>\n",
              "      <td>10.581439</td>\n",
              "      <td>4.132952</td>\n",
              "      <td>5.561209</td>\n",
              "      <td>7.443980</td>\n",
              "      <td>0.50008</td>\n",
              "      <td>10.597849</td>\n",
              "    </tr>\n",
              "    <tr>\n",
              "      <th>min</th>\n",
              "      <td>1.000000</td>\n",
              "      <td>17.000000</td>\n",
              "      <td>0.000000</td>\n",
              "      <td>0.000000</td>\n",
              "      <td>0.000000</td>\n",
              "      <td>0.000000</td>\n",
              "      <td>0.000000</td>\n",
              "      <td>1.000000</td>\n",
              "      <td>1.000000</td>\n",
              "      <td>0.000000</td>\n",
              "      <td>0.000000</td>\n",
              "      <td>0.000000</td>\n",
              "      <td>0.000000</td>\n",
              "      <td>0.000000</td>\n",
              "      <td>0.000000</td>\n",
              "      <td>11.000000</td>\n",
              "      <td>15.000000</td>\n",
              "      <td>5.000000</td>\n",
              "      <td>0.000000</td>\n",
              "      <td>17.000000</td>\n",
              "      <td>0.000000</td>\n",
              "      <td>2.138889</td>\n",
              "      <td>0.00000</td>\n",
              "      <td>0.000000</td>\n",
              "    </tr>\n",
              "    <tr>\n",
              "      <th>25%</th>\n",
              "      <td>780.750000</td>\n",
              "      <td>5820.750000</td>\n",
              "      <td>0.000000</td>\n",
              "      <td>0.000000</td>\n",
              "      <td>0.000000</td>\n",
              "      <td>0.000000</td>\n",
              "      <td>1.000000</td>\n",
              "      <td>1.000000</td>\n",
              "      <td>3.000000</td>\n",
              "      <td>0.000000</td>\n",
              "      <td>5.000000</td>\n",
              "      <td>556.000000</td>\n",
              "      <td>278.000000</td>\n",
              "      <td>318.000000</td>\n",
              "      <td>5.000000</td>\n",
              "      <td>29.000000</td>\n",
              "      <td>45.000000</td>\n",
              "      <td>10.000000</td>\n",
              "      <td>7.000000</td>\n",
              "      <td>29.000000</td>\n",
              "      <td>3.000000</td>\n",
              "      <td>6.356092</td>\n",
              "      <td>0.00000</td>\n",
              "      <td>0.000000</td>\n",
              "    </tr>\n",
              "    <tr>\n",
              "      <th>50%</th>\n",
              "      <td>1560.500000</td>\n",
              "      <td>11735.500000</td>\n",
              "      <td>0.000000</td>\n",
              "      <td>0.000000</td>\n",
              "      <td>0.000000</td>\n",
              "      <td>0.000000</td>\n",
              "      <td>1.000000</td>\n",
              "      <td>1.000000</td>\n",
              "      <td>4.000000</td>\n",
              "      <td>1.000000</td>\n",
              "      <td>8.000000</td>\n",
              "      <td>822.000000</td>\n",
              "      <td>356.000000</td>\n",
              "      <td>396.000000</td>\n",
              "      <td>12.000000</td>\n",
              "      <td>48.000000</td>\n",
              "      <td>81.000000</td>\n",
              "      <td>15.000000</td>\n",
              "      <td>10.000000</td>\n",
              "      <td>31.000000</td>\n",
              "      <td>5.000000</td>\n",
              "      <td>9.000000</td>\n",
              "      <td>0.50000</td>\n",
              "      <td>0.500000</td>\n",
              "    </tr>\n",
              "    <tr>\n",
              "      <th>75%</th>\n",
              "      <td>2340.250000</td>\n",
              "      <td>17435.750000</td>\n",
              "      <td>0.000000</td>\n",
              "      <td>0.000000</td>\n",
              "      <td>0.000000</td>\n",
              "      <td>1.000000</td>\n",
              "      <td>1.000000</td>\n",
              "      <td>1.000000</td>\n",
              "      <td>5.000000</td>\n",
              "      <td>1.000000</td>\n",
              "      <td>8.000000</td>\n",
              "      <td>1338.750000</td>\n",
              "      <td>465.000000</td>\n",
              "      <td>516.000000</td>\n",
              "      <td>21.000000</td>\n",
              "      <td>65.000000</td>\n",
              "      <td>134.625000</td>\n",
              "      <td>20.000000</td>\n",
              "      <td>16.000000</td>\n",
              "      <td>34.000000</td>\n",
              "      <td>9.000000</td>\n",
              "      <td>12.811652</td>\n",
              "      <td>1.00000</td>\n",
              "      <td>10.000000</td>\n",
              "    </tr>\n",
              "    <tr>\n",
              "      <th>max</th>\n",
              "      <td>3120.000000</td>\n",
              "      <td>23293.000000</td>\n",
              "      <td>1.000000</td>\n",
              "      <td>1.000000</td>\n",
              "      <td>1.000000</td>\n",
              "      <td>1.000000</td>\n",
              "      <td>1.000000</td>\n",
              "      <td>5.000000</td>\n",
              "      <td>7.000000</td>\n",
              "      <td>1.000000</td>\n",
              "      <td>9.000000</td>\n",
              "      <td>5945.000000</td>\n",
              "      <td>1500.000000</td>\n",
              "      <td>1331.000000</td>\n",
              "      <td>90.000000</td>\n",
              "      <td>157.000000</td>\n",
              "      <td>5674.900000</td>\n",
              "      <td>1000.000000</td>\n",
              "      <td>219.000000</td>\n",
              "      <td>37.000000</td>\n",
              "      <td>77.000000</td>\n",
              "      <td>122.166667</td>\n",
              "      <td>1.00000</td>\n",
              "      <td>200.000000</td>\n",
              "    </tr>\n",
              "  </tbody>\n",
              "</table>\n",
              "</div>"
            ],
            "text/plain": [
              "            Row Id       Row Id.  ...    TARGET_B     TARGET_D\n",
              "count  3120.000000   3120.000000  ...  3120.00000  3120.000000\n",
              "mean   1560.500000  11615.770833  ...     0.50000     6.499612\n",
              "std     900.810746   6698.678131  ...     0.50008    10.597849\n",
              "min       1.000000     17.000000  ...     0.00000     0.000000\n",
              "25%     780.750000   5820.750000  ...     0.00000     0.000000\n",
              "50%    1560.500000  11735.500000  ...     0.50000     0.500000\n",
              "75%    2340.250000  17435.750000  ...     1.00000    10.000000\n",
              "max    3120.000000  23293.000000  ...     1.00000   200.000000\n",
              "\n",
              "[8 rows x 24 columns]"
            ]
          },
          "metadata": {
            "tags": []
          },
          "execution_count": 4
        }
      ]
    },
    {
      "cell_type": "code",
      "metadata": {
        "id": "C6mYBMHSS2D2",
        "colab_type": "code",
        "outputId": "ff4599ba-0a13-4777-a211-263f3b7da04d",
        "colab": {
          "base_uri": "https://localhost:8080/",
          "height": 34
        }
      },
      "source": [
        "donors.shape"
      ],
      "execution_count": 5,
      "outputs": [
        {
          "output_type": "execute_result",
          "data": {
            "text/plain": [
              "(3120, 24)"
            ]
          },
          "metadata": {
            "tags": []
          },
          "execution_count": 5
        }
      ]
    },
    {
      "cell_type": "code",
      "metadata": {
        "id": "2zLVTp8ZS98B",
        "colab_type": "code",
        "outputId": "d7ef679a-3231-48c3-c259-ed8b8c2d0bd8",
        "colab": {
          "base_uri": "https://localhost:8080/",
          "height": 34
        }
      },
      "source": [
        "donors.size"
      ],
      "execution_count": 6,
      "outputs": [
        {
          "output_type": "execute_result",
          "data": {
            "text/plain": [
              "74880"
            ]
          },
          "metadata": {
            "tags": []
          },
          "execution_count": 6
        }
      ]
    },
    {
      "cell_type": "code",
      "metadata": {
        "id": "xpIO2l-nTRDa",
        "colab_type": "code",
        "outputId": "78a78edf-a71c-40af-9132-1f879c97cbeb",
        "colab": {
          "base_uri": "https://localhost:8080/",
          "height": 255
        }
      },
      "source": [
        "donors.info"
      ],
      "execution_count": 7,
      "outputs": [
        {
          "output_type": "execute_result",
          "data": {
            "text/plain": [
              "<bound method DataFrame.info of       Row Id  Row Id.  zipconvert_2  ...    AVGGIFT  TARGET_B  TARGET_D\n",
              "0          1       17             0  ...   4.857143         1       5.0\n",
              "1          2       25             1  ...   9.400000         1      10.0\n",
              "2          3       29             0  ...   4.285714         1       5.0\n",
              "3          4       38             0  ...   7.080000         0       0.0\n",
              "4          5       40             0  ...   7.666667         0       0.0\n",
              "...      ...      ...           ...  ...        ...       ...       ...\n",
              "3115    3116    23256             0  ...   7.500000         0       0.0\n",
              "3116    3117    23258             0  ...  26.500000         1      40.0\n",
              "3117    3118    23261             0  ...  11.157895         0       0.0\n",
              "3118    3119    23265             0  ...  20.000000         0       0.0\n",
              "3119    3120    23293             0  ...   9.250000         0       0.0\n",
              "\n",
              "[3120 rows x 24 columns]>"
            ]
          },
          "metadata": {
            "tags": []
          },
          "execution_count": 7
        }
      ]
    },
    {
      "cell_type": "code",
      "metadata": {
        "id": "Zt4HOe9-uuhm",
        "colab_type": "code",
        "colab": {}
      },
      "source": [
        "#Dropping columns that wont be used\n",
        "donors = donors.drop(columns=['Row Id','Row Id.','zipconvert_2','zipconvert_3','zipconvert_4','zipconvert_5'], axis = 1)"
      ],
      "execution_count": 0,
      "outputs": []
    },
    {
      "cell_type": "code",
      "metadata": {
        "id": "2kqa8Rh-meHX",
        "colab_type": "code",
        "colab": {}
      },
      "source": [
        "#Renaming Columns \n",
        "donors_cleansed_df = pd.concat([donors['homeowner dummy'],donors['NUMCHLD'],donors['INCOME'],donors['gender dummy'],donors['WEALTH'],donors['HV'],\n",
        "                  donors['Icmed'],donors['Icavg'],donors['IC15'],donors['NUMPROM'],donors['RAMNTALL'],donors['MAXRAMNT'],donors['LASTGIFT'], \n",
        "                  donors['totalmonths'],donors['TIMELAG'],donors['AVGGIFT'],donors['TARGET_D']],axis=1,keys=['homeowner','numchildren','income','gender',\n",
        "                       'wealth','homevalue','income_med','income_avg','lowincome_perc','numpromos','donations_total','donations_max', \n",
        "                       'last_gift','donations_months','donations_time_lag','avg_gift','donation_amt'])"
      ],
      "execution_count": 0,
      "outputs": []
    },
    {
      "cell_type": "code",
      "metadata": {
        "id": "3RKI11Vhmqy8",
        "colab_type": "code",
        "outputId": "7a47cecf-1c94-41c2-8469-7819e964bd29",
        "colab": {
          "base_uri": "https://localhost:8080/",
          "height": 317
        }
      },
      "source": [
        "#Cleansed DataFrame with describe function\n",
        "donors_cleansed_df.describe()"
      ],
      "execution_count": 10,
      "outputs": [
        {
          "output_type": "execute_result",
          "data": {
            "text/html": [
              "<div>\n",
              "<style scoped>\n",
              "    .dataframe tbody tr th:only-of-type {\n",
              "        vertical-align: middle;\n",
              "    }\n",
              "\n",
              "    .dataframe tbody tr th {\n",
              "        vertical-align: top;\n",
              "    }\n",
              "\n",
              "    .dataframe thead th {\n",
              "        text-align: right;\n",
              "    }\n",
              "</style>\n",
              "<table border=\"1\" class=\"dataframe\">\n",
              "  <thead>\n",
              "    <tr style=\"text-align: right;\">\n",
              "      <th></th>\n",
              "      <th>homeowner</th>\n",
              "      <th>numchildren</th>\n",
              "      <th>income</th>\n",
              "      <th>gender</th>\n",
              "      <th>wealth</th>\n",
              "      <th>homevalue</th>\n",
              "      <th>income_med</th>\n",
              "      <th>income_avg</th>\n",
              "      <th>lowincome_perc</th>\n",
              "      <th>numpromos</th>\n",
              "      <th>donations_total</th>\n",
              "      <th>donations_max</th>\n",
              "      <th>last_gift</th>\n",
              "      <th>donations_months</th>\n",
              "      <th>donations_time_lag</th>\n",
              "      <th>avg_gift</th>\n",
              "      <th>donation_amt</th>\n",
              "    </tr>\n",
              "  </thead>\n",
              "  <tbody>\n",
              "    <tr>\n",
              "      <th>count</th>\n",
              "      <td>3120.000000</td>\n",
              "      <td>3120.000000</td>\n",
              "      <td>3120.000000</td>\n",
              "      <td>3120.000000</td>\n",
              "      <td>3120.000000</td>\n",
              "      <td>3120.000000</td>\n",
              "      <td>3120.000000</td>\n",
              "      <td>3120.000000</td>\n",
              "      <td>3120.000000</td>\n",
              "      <td>3120.000000</td>\n",
              "      <td>3120.000000</td>\n",
              "      <td>3120.000000</td>\n",
              "      <td>3120.000000</td>\n",
              "      <td>3120.000000</td>\n",
              "      <td>3120.000000</td>\n",
              "      <td>3120.000000</td>\n",
              "      <td>3120.000000</td>\n",
              "    </tr>\n",
              "    <tr>\n",
              "      <th>mean</th>\n",
              "      <td>0.770192</td>\n",
              "      <td>1.069231</td>\n",
              "      <td>3.893910</td>\n",
              "      <td>0.609295</td>\n",
              "      <td>6.402244</td>\n",
              "      <td>1141.361859</td>\n",
              "      <td>388.217308</td>\n",
              "      <td>432.088141</td>\n",
              "      <td>14.702885</td>\n",
              "      <td>49.089423</td>\n",
              "      <td>110.399875</td>\n",
              "      <td>16.651397</td>\n",
              "      <td>13.522917</td>\n",
              "      <td>31.136859</td>\n",
              "      <td>6.861859</td>\n",
              "      <td>10.690713</td>\n",
              "      <td>6.499612</td>\n",
              "    </tr>\n",
              "    <tr>\n",
              "      <th>std</th>\n",
              "      <td>0.420777</td>\n",
              "      <td>0.347688</td>\n",
              "      <td>1.636186</td>\n",
              "      <td>0.487987</td>\n",
              "      <td>2.539978</td>\n",
              "      <td>946.642162</td>\n",
              "      <td>172.815950</td>\n",
              "      <td>168.195104</td>\n",
              "      <td>12.079882</td>\n",
              "      <td>22.717130</td>\n",
              "      <td>147.299933</td>\n",
              "      <td>22.223521</td>\n",
              "      <td>10.581439</td>\n",
              "      <td>4.132952</td>\n",
              "      <td>5.561209</td>\n",
              "      <td>7.443980</td>\n",
              "      <td>10.597849</td>\n",
              "    </tr>\n",
              "    <tr>\n",
              "      <th>min</th>\n",
              "      <td>0.000000</td>\n",
              "      <td>1.000000</td>\n",
              "      <td>1.000000</td>\n",
              "      <td>0.000000</td>\n",
              "      <td>0.000000</td>\n",
              "      <td>0.000000</td>\n",
              "      <td>0.000000</td>\n",
              "      <td>0.000000</td>\n",
              "      <td>0.000000</td>\n",
              "      <td>11.000000</td>\n",
              "      <td>15.000000</td>\n",
              "      <td>5.000000</td>\n",
              "      <td>0.000000</td>\n",
              "      <td>17.000000</td>\n",
              "      <td>0.000000</td>\n",
              "      <td>2.138889</td>\n",
              "      <td>0.000000</td>\n",
              "    </tr>\n",
              "    <tr>\n",
              "      <th>25%</th>\n",
              "      <td>1.000000</td>\n",
              "      <td>1.000000</td>\n",
              "      <td>3.000000</td>\n",
              "      <td>0.000000</td>\n",
              "      <td>5.000000</td>\n",
              "      <td>556.000000</td>\n",
              "      <td>278.000000</td>\n",
              "      <td>318.000000</td>\n",
              "      <td>5.000000</td>\n",
              "      <td>29.000000</td>\n",
              "      <td>45.000000</td>\n",
              "      <td>10.000000</td>\n",
              "      <td>7.000000</td>\n",
              "      <td>29.000000</td>\n",
              "      <td>3.000000</td>\n",
              "      <td>6.356092</td>\n",
              "      <td>0.000000</td>\n",
              "    </tr>\n",
              "    <tr>\n",
              "      <th>50%</th>\n",
              "      <td>1.000000</td>\n",
              "      <td>1.000000</td>\n",
              "      <td>4.000000</td>\n",
              "      <td>1.000000</td>\n",
              "      <td>8.000000</td>\n",
              "      <td>822.000000</td>\n",
              "      <td>356.000000</td>\n",
              "      <td>396.000000</td>\n",
              "      <td>12.000000</td>\n",
              "      <td>48.000000</td>\n",
              "      <td>81.000000</td>\n",
              "      <td>15.000000</td>\n",
              "      <td>10.000000</td>\n",
              "      <td>31.000000</td>\n",
              "      <td>5.000000</td>\n",
              "      <td>9.000000</td>\n",
              "      <td>0.500000</td>\n",
              "    </tr>\n",
              "    <tr>\n",
              "      <th>75%</th>\n",
              "      <td>1.000000</td>\n",
              "      <td>1.000000</td>\n",
              "      <td>5.000000</td>\n",
              "      <td>1.000000</td>\n",
              "      <td>8.000000</td>\n",
              "      <td>1338.750000</td>\n",
              "      <td>465.000000</td>\n",
              "      <td>516.000000</td>\n",
              "      <td>21.000000</td>\n",
              "      <td>65.000000</td>\n",
              "      <td>134.625000</td>\n",
              "      <td>20.000000</td>\n",
              "      <td>16.000000</td>\n",
              "      <td>34.000000</td>\n",
              "      <td>9.000000</td>\n",
              "      <td>12.811652</td>\n",
              "      <td>10.000000</td>\n",
              "    </tr>\n",
              "    <tr>\n",
              "      <th>max</th>\n",
              "      <td>1.000000</td>\n",
              "      <td>5.000000</td>\n",
              "      <td>7.000000</td>\n",
              "      <td>1.000000</td>\n",
              "      <td>9.000000</td>\n",
              "      <td>5945.000000</td>\n",
              "      <td>1500.000000</td>\n",
              "      <td>1331.000000</td>\n",
              "      <td>90.000000</td>\n",
              "      <td>157.000000</td>\n",
              "      <td>5674.900000</td>\n",
              "      <td>1000.000000</td>\n",
              "      <td>219.000000</td>\n",
              "      <td>37.000000</td>\n",
              "      <td>77.000000</td>\n",
              "      <td>122.166667</td>\n",
              "      <td>200.000000</td>\n",
              "    </tr>\n",
              "  </tbody>\n",
              "</table>\n",
              "</div>"
            ],
            "text/plain": [
              "         homeowner  numchildren  ...     avg_gift  donation_amt\n",
              "count  3120.000000  3120.000000  ...  3120.000000   3120.000000\n",
              "mean      0.770192     1.069231  ...    10.690713      6.499612\n",
              "std       0.420777     0.347688  ...     7.443980     10.597849\n",
              "min       0.000000     1.000000  ...     2.138889      0.000000\n",
              "25%       1.000000     1.000000  ...     6.356092      0.000000\n",
              "50%       1.000000     1.000000  ...     9.000000      0.500000\n",
              "75%       1.000000     1.000000  ...    12.811652     10.000000\n",
              "max       1.000000     5.000000  ...   122.166667    200.000000\n",
              "\n",
              "[8 rows x 17 columns]"
            ]
          },
          "metadata": {
            "tags": []
          },
          "execution_count": 10
        }
      ]
    },
    {
      "cell_type": "code",
      "metadata": {
        "id": "oW_rmU3oUJa8",
        "colab_type": "code",
        "colab": {}
      },
      "source": [
        "# Due to the outliers, I tuned the number to 2000 (better clean that way) \n",
        "new = donors_cleansed_df[donors_cleansed_df.donations_total <= 2000]"
      ],
      "execution_count": 0,
      "outputs": []
    },
    {
      "cell_type": "code",
      "metadata": {
        "id": "MEv_aTpQUU40",
        "colab_type": "code",
        "colab": {}
      },
      "source": [
        "#new DF equal to the new tunning \n",
        "donors_cleansed_df = new"
      ],
      "execution_count": 0,
      "outputs": []
    },
    {
      "cell_type": "code",
      "metadata": {
        "id": "QsikrYlPUylB",
        "colab_type": "code",
        "outputId": "ee7f2862-eb63-4cfe-f678-f684c2640b22",
        "colab": {
          "base_uri": "https://localhost:8080/",
          "height": 295
        }
      },
      "source": [
        "#First Question: Does the number of promotions really impact the sum amount of donations?\n",
        "plt.plot(donors_cleansed_df.numpromos, donors_cleansed_df.donations_total, 'o', color='green')\n",
        "plt.title('Number of Promotions vs Amount of Donations')\n",
        "plt.xlabel('Promotions')\n",
        "plt.ylabel('Total Donation Amount')\n",
        "plt.show()"
      ],
      "execution_count": 13,
      "outputs": [
        {
          "output_type": "display_data",
          "data": {
            "image/png": "[encoded data removed]",
            "text/plain": [
              "<Figure size 432x288 with 1 Axes>"
            ]
          },
          "metadata": {
            "tags": [],
            "needs_background": "light"
          }
        }
      ]
    },
    {
      "cell_type": "code",
      "metadata": {
        "id": "OveA4G_uVrmk",
        "colab_type": "code",
        "outputId": "660e46ea-de21-4c32-84ac-dd41467e1649",
        "colab": {
          "base_uri": "https://localhost:8080/",
          "height": 295
        }
      },
      "source": [
        "#In addition to question 1, I would suggest to compare the total donation amount to the number of promotions  \n",
        "homeowner_yes = donors_cleansed_df[donors_cleansed_df.homeowner == 1]\n",
        "homeowner_no = donors_cleansed_df[donors_cleansed_df.homeowner == 0]\n",
        "plt.plot(homeowner_yes.numpromos, homeowner_yes.donations_total, 'o', color='orange')\n",
        "plt.plot(homeowner_no.numpromos, homeowner_no.donations_total, 'o', color='blue')\n",
        "plt.title('Number of Promotions vs Amount of Donations(Homeowner Yes/No)')\n",
        "plt.xlabel('Promotions')\n",
        "plt.ylabel('Total Donation Amount')\n",
        "plt.show()"
      ],
      "execution_count": 15,
      "outputs": [
        {
          "output_type": "display_data",
          "data": {
            "image/png": "[encoded data removed]",
            "text/plain": [
              "<Figure size 432x288 with 1 Axes>"
            ]
          },
          "metadata": {
            "tags": [],
            "needs_background": "light"
          }
        }
      ]
    },
    {
      "cell_type": "code",
      "metadata": {
        "id": "HZcTmqoxV7J0",
        "colab_type": "code",
        "outputId": "9b533239-1e6e-4e4d-8cb4-862dcb475460",
        "colab": {
          "base_uri": "https://localhost:8080/",
          "height": 295
        }
      },
      "source": [
        "#Second Question: Does the number of promotions influence the average amount of donations?\n",
        "plt.plot(donors_cleansed_df.numpromos, donors_cleansed_df.avg_gift, 'o', color='gray')\n",
        "plt.title('Number of Promotions vs Average Donation')\n",
        "plt.xlabel('Promotions')\n",
        "plt.ylabel('Average Donation Amount')\n",
        "plt.show()"
      ],
      "execution_count": 31,
      "outputs": [
        {
          "output_type": "display_data",
          "data": {
            "image/png": "[encoded data removed]",
            "text/plain": [
              "<Figure size 432x288 with 1 Axes>"
            ]
          },
          "metadata": {
            "tags": [],
            "needs_background": "light"
          }
        }
      ]
    },
    {
      "cell_type": "code",
      "metadata": {
        "id": "bFon1Y3foW8x",
        "colab_type": "code",
        "outputId": "a88d5cd9-a563-442c-d699-898ff9b5a906",
        "colab": {
          "base_uri": "https://localhost:8080/",
          "height": 295
        }
      },
      "source": [
        "#Third Question: Does number of promotions infulence the time since the last donation?\n",
        "plt.plot(donors_cleansed_df.numpromos, donors_cleansed_df.donations_months, 'o', color='orange')\n",
        "plt.title('Number of Promotions vs Time Since Donation')\n",
        "plt.xlabel('Promotions')\n",
        "plt.ylabel('Months since last donation')\n",
        "plt.show()"
      ],
      "execution_count": 32,
      "outputs": [
        {
          "output_type": "display_data",
          "data": {
            "image/png": "[encoded data removed]",
            "text/plain": [
              "<Figure size 432x288 with 1 Axes>"
            ]
          },
          "metadata": {
            "tags": [],
            "needs_background": "light"
          }
        }
      ]
    },
    {
      "cell_type": "code",
      "metadata": {
        "id": "T9g4lx10o7t_",
        "colab_type": "code",
        "outputId": "b9a719a6-8bca-43e8-fce0-b271f3d2d857",
        "colab": {
          "base_uri": "https://localhost:8080/",
          "height": 295
        }
      },
      "source": [
        "#Fourth Question: Does number of promotions influence the time between first and second donation?\n",
        "plt.plot(donors_cleansed_df.numpromos, donors_cleansed_df.donations_time_lag, 'o', color='brown')\n",
        "plt.title('Number of Promotions vs Time between first and second Donation')\n",
        "plt.xlabel('Promotions')\n",
        "plt.ylabel('Months since last donation')\n",
        "plt.show()"
      ],
      "execution_count": 35,
      "outputs": [
        {
          "output_type": "display_data",
          "data": {
            "image/png": "[encoded data removed]",
            "text/plain": [
              "<Figure size 432x288 with 1 Axes>"
            ]
          },
          "metadata": {
            "tags": [],
            "needs_background": "light"
          }
        }
      ]
    },
    {
      "cell_type": "code",
      "metadata": {
        "id": "5g6ooRkZpZcH",
        "colab_type": "code",
        "outputId": "8713ae17-0bf6-43ae-9ce2-aa226bc4a38e",
        "colab": {
          "base_uri": "https://localhost:8080/",
          "height": 295
        }
      },
      "source": [
        "#Fifth Question: Does Donation Frequency infulence on the number of promotions\n",
        "donation_freq = donors_cleansed_df.donations_total/donors_cleansed_df.avg_gift\n",
        "plt.plot(donors_cleansed_df.numpromos, donation_freq, 'o', color='navy')\n",
        "plt.title('Number of Promotions vs Donation Frequency')\n",
        "plt.xlabel('Promotions')\n",
        "plt.ylabel('Donation Frequency')\n",
        "plt.show()"
      ],
      "execution_count": 34,
      "outputs": [
        {
          "output_type": "display_data",
          "data": {
            "image/png": "[encoded data removed]",
            "text/plain": [
              "<Figure size 432x288 with 1 Axes>"
            ]
          },
          "metadata": {
            "tags": [],
            "needs_background": "light"
          }
        }
      ]
    },
    {
      "cell_type": "code",
      "metadata": {
        "id": "4VL3VH60vG64",
        "colab_type": "code",
        "colab": {
          "base_uri": "https://localhost:8080/",
          "height": 295
        },
        "outputId": "8043bcaa-d867-48d2-821d-4dfe52e11039"
      },
      "source": [
        "#Sixth Question: Is there any relationship/correlation between income and donation frequency?\n",
        "plt.plot(donors_cleansed_df.income, donors_cleansed_df.donation_amt, 'o', color='pink')\n",
        "plt.title('Income vs Donation Amount')\n",
        "plt.xlabel('Income')\n",
        "plt.ylabel('Donation Amount')\n",
        "plt.show()"
      ],
      "execution_count": 18,
      "outputs": [
        {
          "output_type": "display_data",
          "data": {
            "image/png": "[encoded data removed]",
            "text/plain": [
              "<Figure size 432x288 with 1 Axes>"
            ]
          },
          "metadata": {
            "tags": [],
            "needs_background": "light"
          }
        }
      ]
    }
  ]
}